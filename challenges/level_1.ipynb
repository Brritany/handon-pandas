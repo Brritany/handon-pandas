{
 "cells": [
  {
   "cell_type": "markdown",
   "source": [
    "# Level 1: Introduction to Pandas\n",
    "\n",
    "Your task is to import the pandas library and create a simple DataFrame."
   ]
  },
  {
   "cell_type": "code",
   "source": [
    "# Your code here"
   ],
   "execution_count": null,
   "outputs": []
  }
 ],
 "metadata": {},
 "nbformat": 4,
 "nbformat_minor": 5
}
